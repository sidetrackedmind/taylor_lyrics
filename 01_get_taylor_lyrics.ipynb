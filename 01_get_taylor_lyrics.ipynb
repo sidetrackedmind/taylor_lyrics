{
 "cells": [
  {
   "cell_type": "markdown",
   "metadata": {},
   "source": [
    "# Issue\n",
    "Issue with evermore - long story short. It downloads tour dates?"
   ]
  },
  {
   "cell_type": "code",
   "execution_count": 30,
   "metadata": {},
   "outputs": [],
   "source": [
    "from lyricsgenius import Genius\n",
    "import spotipy\n",
    "from spotipy.oauth2 import SpotifyClientCredentials\n",
    "from dotenv import load_dotenv\n",
    "import os\n",
    "import pandas as pd\n",
    "import glob\n",
    "import datetime"
   ]
  },
  {
   "cell_type": "code",
   "execution_count": 2,
   "metadata": {},
   "outputs": [
    {
     "data": {
      "text/plain": [
       "True"
      ]
     },
     "execution_count": 2,
     "metadata": {},
     "output_type": "execute_result"
    }
   ],
   "source": [
    "load_dotenv()"
   ]
  },
  {
   "cell_type": "code",
   "execution_count": 3,
   "metadata": {},
   "outputs": [],
   "source": [
    "sp = spotipy.Spotify(auth_manager=SpotifyClientCredentials(client_id=os.environ['spotify_client_id'],\n",
    "                                                           client_secret=os.environ['spotify_client_secret']))"
   ]
  },
  {
   "cell_type": "code",
   "execution_count": 4,
   "metadata": {},
   "outputs": [],
   "source": [
    "results = sp.search(q='Taylor Swift', limit=1, type='artist')"
   ]
  },
  {
   "cell_type": "code",
   "execution_count": 5,
   "metadata": {},
   "outputs": [],
   "source": [
    "taylors_spotify_id = results['artists']['items'][0]['id']"
   ]
  },
  {
   "cell_type": "code",
   "execution_count": 6,
   "metadata": {},
   "outputs": [
    {
     "data": {
      "text/plain": [
       "'06HL4z0CvFAxyc27GXpf02'"
      ]
     },
     "execution_count": 6,
     "metadata": {},
     "output_type": "execute_result"
    }
   ],
   "source": [
    "taylors_spotify_id"
   ]
  },
  {
   "cell_type": "code",
   "execution_count": 8,
   "metadata": {},
   "outputs": [],
   "source": [
    "taylor_albums_pt1 = sp.artist_albums(artist_id=taylors_spotify_id, album_type='album', limit=50, offset=0)\n",
    "taylor_albums_pt2 = sp.artist_albums(artist_id=taylors_spotify_id, album_type='album', limit=50, offset=50)"
   ]
  },
  {
   "cell_type": "code",
   "execution_count": 9,
   "metadata": {},
   "outputs": [
    {
     "data": {
      "text/html": [
       "<div>\n",
       "<style scoped>\n",
       "    .dataframe tbody tr th:only-of-type {\n",
       "        vertical-align: middle;\n",
       "    }\n",
       "\n",
       "    .dataframe tbody tr th {\n",
       "        vertical-align: top;\n",
       "    }\n",
       "\n",
       "    .dataframe thead th {\n",
       "        text-align: right;\n",
       "    }\n",
       "</style>\n",
       "<table border=\"1\" class=\"dataframe\">\n",
       "  <thead>\n",
       "    <tr style=\"text-align: right;\">\n",
       "      <th></th>\n",
       "      <th>album_group</th>\n",
       "      <th>album_type</th>\n",
       "      <th>artists</th>\n",
       "      <th>available_markets</th>\n",
       "      <th>external_urls</th>\n",
       "      <th>href</th>\n",
       "      <th>id</th>\n",
       "      <th>images</th>\n",
       "      <th>name</th>\n",
       "      <th>release_date</th>\n",
       "      <th>release_date_precision</th>\n",
       "      <th>total_tracks</th>\n",
       "      <th>type</th>\n",
       "      <th>uri</th>\n",
       "    </tr>\n",
       "  </thead>\n",
       "  <tbody>\n",
       "    <tr>\n",
       "      <th>0</th>\n",
       "      <td>album</td>\n",
       "      <td>album</td>\n",
       "      <td>[{'external_urls': {'spotify': 'https://open.s...</td>\n",
       "      <td>[AR, AU, AT, BE, BO, BR, BG, CA, CL, CO, CR, C...</td>\n",
       "      <td>{'spotify': 'https://open.spotify.com/album/5H...</td>\n",
       "      <td>https://api.spotify.com/v1/albums/5H7ixXZfsNMG...</td>\n",
       "      <td>5H7ixXZfsNMGbIE5OBSpcb</td>\n",
       "      <td>[{'height': 640, 'url': 'https://i.scdn.co/ima...</td>\n",
       "      <td>THE TORTURED POETS DEPARTMENT: THE ANTHOLOGY</td>\n",
       "      <td>2024-04-19</td>\n",
       "      <td>day</td>\n",
       "      <td>31</td>\n",
       "      <td>album</td>\n",
       "      <td>spotify:album:5H7ixXZfsNMGbIE5OBSpcb</td>\n",
       "    </tr>\n",
       "    <tr>\n",
       "      <th>1</th>\n",
       "      <td>album</td>\n",
       "      <td>album</td>\n",
       "      <td>[{'external_urls': {'spotify': 'https://open.s...</td>\n",
       "      <td>[AR, AU, AT, BE, BO, BR, BG, CA, CL, CO, CR, C...</td>\n",
       "      <td>{'spotify': 'https://open.spotify.com/album/1M...</td>\n",
       "      <td>https://api.spotify.com/v1/albums/1Mo4aZ8pdj6L...</td>\n",
       "      <td>1Mo4aZ8pdj6L1jx8zSwJnt</td>\n",
       "      <td>[{'height': 640, 'url': 'https://i.scdn.co/ima...</td>\n",
       "      <td>THE TORTURED POETS DEPARTMENT</td>\n",
       "      <td>2024-04-18</td>\n",
       "      <td>day</td>\n",
       "      <td>16</td>\n",
       "      <td>album</td>\n",
       "      <td>spotify:album:1Mo4aZ8pdj6L1jx8zSwJnt</td>\n",
       "    </tr>\n",
       "    <tr>\n",
       "      <th>2</th>\n",
       "      <td>album</td>\n",
       "      <td>album</td>\n",
       "      <td>[{'external_urls': {'spotify': 'https://open.s...</td>\n",
       "      <td>[AR, AU, AT, BE, BO, BR, BG, CA, CL, CO, CR, C...</td>\n",
       "      <td>{'spotify': 'https://open.spotify.com/album/1o...</td>\n",
       "      <td>https://api.spotify.com/v1/albums/1o59UpKw81iH...</td>\n",
       "      <td>1o59UpKw81iHR0HPiSkJR0</td>\n",
       "      <td>[{'height': 640, 'url': 'https://i.scdn.co/ima...</td>\n",
       "      <td>1989 (Taylor's Version) [Deluxe]</td>\n",
       "      <td>2023-10-27</td>\n",
       "      <td>day</td>\n",
       "      <td>22</td>\n",
       "      <td>album</td>\n",
       "      <td>spotify:album:1o59UpKw81iHR0HPiSkJR0</td>\n",
       "    </tr>\n",
       "  </tbody>\n",
       "</table>\n",
       "</div>"
      ],
      "text/plain": [
       "  album_group album_type                                            artists   \n",
       "0       album      album  [{'external_urls': {'spotify': 'https://open.s...  \\\n",
       "1       album      album  [{'external_urls': {'spotify': 'https://open.s...   \n",
       "2       album      album  [{'external_urls': {'spotify': 'https://open.s...   \n",
       "\n",
       "                                   available_markets   \n",
       "0  [AR, AU, AT, BE, BO, BR, BG, CA, CL, CO, CR, C...  \\\n",
       "1  [AR, AU, AT, BE, BO, BR, BG, CA, CL, CO, CR, C...   \n",
       "2  [AR, AU, AT, BE, BO, BR, BG, CA, CL, CO, CR, C...   \n",
       "\n",
       "                                       external_urls   \n",
       "0  {'spotify': 'https://open.spotify.com/album/5H...  \\\n",
       "1  {'spotify': 'https://open.spotify.com/album/1M...   \n",
       "2  {'spotify': 'https://open.spotify.com/album/1o...   \n",
       "\n",
       "                                                href                      id   \n",
       "0  https://api.spotify.com/v1/albums/5H7ixXZfsNMG...  5H7ixXZfsNMGbIE5OBSpcb  \\\n",
       "1  https://api.spotify.com/v1/albums/1Mo4aZ8pdj6L...  1Mo4aZ8pdj6L1jx8zSwJnt   \n",
       "2  https://api.spotify.com/v1/albums/1o59UpKw81iH...  1o59UpKw81iHR0HPiSkJR0   \n",
       "\n",
       "                                              images   \n",
       "0  [{'height': 640, 'url': 'https://i.scdn.co/ima...  \\\n",
       "1  [{'height': 640, 'url': 'https://i.scdn.co/ima...   \n",
       "2  [{'height': 640, 'url': 'https://i.scdn.co/ima...   \n",
       "\n",
       "                                           name release_date   \n",
       "0  THE TORTURED POETS DEPARTMENT: THE ANTHOLOGY   2024-04-19  \\\n",
       "1                 THE TORTURED POETS DEPARTMENT   2024-04-18   \n",
       "2              1989 (Taylor's Version) [Deluxe]   2023-10-27   \n",
       "\n",
       "  release_date_precision  total_tracks   type   \n",
       "0                    day            31  album  \\\n",
       "1                    day            16  album   \n",
       "2                    day            22  album   \n",
       "\n",
       "                                    uri  \n",
       "0  spotify:album:5H7ixXZfsNMGbIE5OBSpcb  \n",
       "1  spotify:album:1Mo4aZ8pdj6L1jx8zSwJnt  \n",
       "2  spotify:album:1o59UpKw81iHR0HPiSkJR0  "
      ]
     },
     "execution_count": 9,
     "metadata": {},
     "output_type": "execute_result"
    }
   ],
   "source": [
    "all_taylor_albums = taylor_albums_pt2['items']+taylor_albums_pt1['items']\n",
    "all_taylor_albums_df = pd.DataFrame(all_taylor_albums)\n",
    "all_taylor_albums_df.head(3)"
   ]
  },
  {
   "cell_type": "markdown",
   "metadata": {},
   "source": [
    "### Get rid of all the special albums\n",
    "If you're a hardcore fan you may not like this\n",
    "> Haters gonna hate"
   ]
  },
  {
   "cell_type": "code",
   "execution_count": 16,
   "metadata": {},
   "outputs": [
    {
     "data": {
      "text/plain": [
       "['THE TORTURED POETS DEPARTMENT',\n",
       " 'Midnights',\n",
       " 'evermore',\n",
       " 'folklore',\n",
       " 'Lover',\n",
       " 'reputation',\n",
       " '1989',\n",
       " 'Red',\n",
       " 'Speak Now',\n",
       " 'Fearless',\n",
       " 'Taylor Swift']"
      ]
     },
     "execution_count": 16,
     "metadata": {},
     "output_type": "execute_result"
    }
   ],
   "source": [
    "normal_albums = [album_name for album_name in all_taylor_albums_df['name'].unique() if ('version' not in album_name.lower()) \n",
    "and ('deluxe' not in album_name.lower()) and ('karaoke' not in album_name.lower()) and ('edition' not in album_name.lower())\n",
    "and ('special' not in album_name.lower()) and ('tour' not in album_name.lower()) and ('live' not in album_name.lower()) and ('anthology' not in album_name.lower())]\n",
    "normal_albums"
   ]
  },
  {
   "cell_type": "code",
   "execution_count": 17,
   "metadata": {},
   "outputs": [
    {
     "data": {
      "text/html": [
       "<div>\n",
       "<style scoped>\n",
       "    .dataframe tbody tr th:only-of-type {\n",
       "        vertical-align: middle;\n",
       "    }\n",
       "\n",
       "    .dataframe tbody tr th {\n",
       "        vertical-align: top;\n",
       "    }\n",
       "\n",
       "    .dataframe thead th {\n",
       "        text-align: right;\n",
       "    }\n",
       "</style>\n",
       "<table border=\"1\" class=\"dataframe\">\n",
       "  <thead>\n",
       "    <tr style=\"text-align: right;\">\n",
       "      <th></th>\n",
       "      <th>album_group</th>\n",
       "      <th>album_type</th>\n",
       "      <th>artists</th>\n",
       "      <th>available_markets</th>\n",
       "      <th>external_urls</th>\n",
       "      <th>href</th>\n",
       "      <th>id</th>\n",
       "      <th>images</th>\n",
       "      <th>name</th>\n",
       "      <th>release_date</th>\n",
       "      <th>release_date_precision</th>\n",
       "      <th>total_tracks</th>\n",
       "      <th>type</th>\n",
       "      <th>uri</th>\n",
       "    </tr>\n",
       "  </thead>\n",
       "  <tbody>\n",
       "    <tr>\n",
       "      <th>1</th>\n",
       "      <td>album</td>\n",
       "      <td>album</td>\n",
       "      <td>[{'external_urls': {'spotify': 'https://open.s...</td>\n",
       "      <td>[AR, AU, AT, BE, BO, BR, BG, CA, CL, CO, CR, C...</td>\n",
       "      <td>{'spotify': 'https://open.spotify.com/album/1M...</td>\n",
       "      <td>https://api.spotify.com/v1/albums/1Mo4aZ8pdj6L...</td>\n",
       "      <td>1Mo4aZ8pdj6L1jx8zSwJnt</td>\n",
       "      <td>[{'height': 640, 'url': 'https://i.scdn.co/ima...</td>\n",
       "      <td>THE TORTURED POETS DEPARTMENT</td>\n",
       "      <td>2024-04-18</td>\n",
       "      <td>day</td>\n",
       "      <td>16</td>\n",
       "      <td>album</td>\n",
       "      <td>spotify:album:1Mo4aZ8pdj6L1jx8zSwJnt</td>\n",
       "    </tr>\n",
       "    <tr>\n",
       "      <th>7</th>\n",
       "      <td>album</td>\n",
       "      <td>album</td>\n",
       "      <td>[{'external_urls': {'spotify': 'https://open.s...</td>\n",
       "      <td>[AR, AU, AT, BE, BO, BR, BG, CA, CL, CO, CR, C...</td>\n",
       "      <td>{'spotify': 'https://open.spotify.com/album/15...</td>\n",
       "      <td>https://api.spotify.com/v1/albums/151w1FgRZfnK...</td>\n",
       "      <td>151w1FgRZfnKZA9FEcg9Z3</td>\n",
       "      <td>[{'height': 640, 'url': 'https://i.scdn.co/ima...</td>\n",
       "      <td>Midnights</td>\n",
       "      <td>2022-10-21</td>\n",
       "      <td>day</td>\n",
       "      <td>13</td>\n",
       "      <td>album</td>\n",
       "      <td>spotify:album:151w1FgRZfnKZA9FEcg9Z3</td>\n",
       "    </tr>\n",
       "    <tr>\n",
       "      <th>11</th>\n",
       "      <td>album</td>\n",
       "      <td>album</td>\n",
       "      <td>[{'external_urls': {'spotify': 'https://open.s...</td>\n",
       "      <td>[AR, AU, AT, BE, BO, BR, BG, CA, CL, CO, CR, C...</td>\n",
       "      <td>{'spotify': 'https://open.spotify.com/album/2X...</td>\n",
       "      <td>https://api.spotify.com/v1/albums/2Xoteh7uEpea...</td>\n",
       "      <td>2Xoteh7uEpea4TohMxjtaq</td>\n",
       "      <td>[{'height': 640, 'url': 'https://i.scdn.co/ima...</td>\n",
       "      <td>evermore</td>\n",
       "      <td>2020-12-11</td>\n",
       "      <td>day</td>\n",
       "      <td>15</td>\n",
       "      <td>album</td>\n",
       "      <td>spotify:album:2Xoteh7uEpea4TohMxjtaq</td>\n",
       "    </tr>\n",
       "    <tr>\n",
       "      <th>14</th>\n",
       "      <td>album</td>\n",
       "      <td>album</td>\n",
       "      <td>[{'external_urls': {'spotify': 'https://open.s...</td>\n",
       "      <td>[AR, AU, AT, BE, BO, BR, BG, CA, CL, CO, CR, C...</td>\n",
       "      <td>{'spotify': 'https://open.spotify.com/album/2f...</td>\n",
       "      <td>https://api.spotify.com/v1/albums/2fenSS68JI1h...</td>\n",
       "      <td>2fenSS68JI1h4Fo296JfGr</td>\n",
       "      <td>[{'height': 640, 'url': 'https://i.scdn.co/ima...</td>\n",
       "      <td>folklore</td>\n",
       "      <td>2020-07-24</td>\n",
       "      <td>day</td>\n",
       "      <td>16</td>\n",
       "      <td>album</td>\n",
       "      <td>spotify:album:2fenSS68JI1h4Fo296JfGr</td>\n",
       "    </tr>\n",
       "    <tr>\n",
       "      <th>15</th>\n",
       "      <td>album</td>\n",
       "      <td>album</td>\n",
       "      <td>[{'external_urls': {'spotify': 'https://open.s...</td>\n",
       "      <td>[AR, AU, AT, BE, BO, BR, BG, CA, CL, CO, CR, C...</td>\n",
       "      <td>{'spotify': 'https://open.spotify.com/album/1N...</td>\n",
       "      <td>https://api.spotify.com/v1/albums/1NAmidJlEaVg...</td>\n",
       "      <td>1NAmidJlEaVgA3MpcPFYGq</td>\n",
       "      <td>[{'height': 640, 'url': 'https://i.scdn.co/ima...</td>\n",
       "      <td>Lover</td>\n",
       "      <td>2019-08-23</td>\n",
       "      <td>day</td>\n",
       "      <td>18</td>\n",
       "      <td>album</td>\n",
       "      <td>spotify:album:1NAmidJlEaVgA3MpcPFYGq</td>\n",
       "    </tr>\n",
       "  </tbody>\n",
       "</table>\n",
       "</div>"
      ],
      "text/plain": [
       "   album_group album_type                                            artists   \n",
       "1        album      album  [{'external_urls': {'spotify': 'https://open.s...  \\\n",
       "7        album      album  [{'external_urls': {'spotify': 'https://open.s...   \n",
       "11       album      album  [{'external_urls': {'spotify': 'https://open.s...   \n",
       "14       album      album  [{'external_urls': {'spotify': 'https://open.s...   \n",
       "15       album      album  [{'external_urls': {'spotify': 'https://open.s...   \n",
       "\n",
       "                                    available_markets   \n",
       "1   [AR, AU, AT, BE, BO, BR, BG, CA, CL, CO, CR, C...  \\\n",
       "7   [AR, AU, AT, BE, BO, BR, BG, CA, CL, CO, CR, C...   \n",
       "11  [AR, AU, AT, BE, BO, BR, BG, CA, CL, CO, CR, C...   \n",
       "14  [AR, AU, AT, BE, BO, BR, BG, CA, CL, CO, CR, C...   \n",
       "15  [AR, AU, AT, BE, BO, BR, BG, CA, CL, CO, CR, C...   \n",
       "\n",
       "                                        external_urls   \n",
       "1   {'spotify': 'https://open.spotify.com/album/1M...  \\\n",
       "7   {'spotify': 'https://open.spotify.com/album/15...   \n",
       "11  {'spotify': 'https://open.spotify.com/album/2X...   \n",
       "14  {'spotify': 'https://open.spotify.com/album/2f...   \n",
       "15  {'spotify': 'https://open.spotify.com/album/1N...   \n",
       "\n",
       "                                                 href                      id   \n",
       "1   https://api.spotify.com/v1/albums/1Mo4aZ8pdj6L...  1Mo4aZ8pdj6L1jx8zSwJnt  \\\n",
       "7   https://api.spotify.com/v1/albums/151w1FgRZfnK...  151w1FgRZfnKZA9FEcg9Z3   \n",
       "11  https://api.spotify.com/v1/albums/2Xoteh7uEpea...  2Xoteh7uEpea4TohMxjtaq   \n",
       "14  https://api.spotify.com/v1/albums/2fenSS68JI1h...  2fenSS68JI1h4Fo296JfGr   \n",
       "15  https://api.spotify.com/v1/albums/1NAmidJlEaVg...  1NAmidJlEaVgA3MpcPFYGq   \n",
       "\n",
       "                                               images   \n",
       "1   [{'height': 640, 'url': 'https://i.scdn.co/ima...  \\\n",
       "7   [{'height': 640, 'url': 'https://i.scdn.co/ima...   \n",
       "11  [{'height': 640, 'url': 'https://i.scdn.co/ima...   \n",
       "14  [{'height': 640, 'url': 'https://i.scdn.co/ima...   \n",
       "15  [{'height': 640, 'url': 'https://i.scdn.co/ima...   \n",
       "\n",
       "                             name release_date release_date_precision   \n",
       "1   THE TORTURED POETS DEPARTMENT   2024-04-18                    day  \\\n",
       "7                       Midnights   2022-10-21                    day   \n",
       "11                       evermore   2020-12-11                    day   \n",
       "14                       folklore   2020-07-24                    day   \n",
       "15                          Lover   2019-08-23                    day   \n",
       "\n",
       "    total_tracks   type                                   uri  \n",
       "1             16  album  spotify:album:1Mo4aZ8pdj6L1jx8zSwJnt  \n",
       "7             13  album  spotify:album:151w1FgRZfnKZA9FEcg9Z3  \n",
       "11            15  album  spotify:album:2Xoteh7uEpea4TohMxjtaq  \n",
       "14            16  album  spotify:album:2fenSS68JI1h4Fo296JfGr  \n",
       "15            18  album  spotify:album:1NAmidJlEaVgA3MpcPFYGq  "
      ]
     },
     "execution_count": 17,
     "metadata": {},
     "output_type": "execute_result"
    }
   ],
   "source": [
    "filtered_albums_df = all_taylor_albums_df[all_taylor_albums_df['name'].isin(normal_albums)].copy()\n",
    "filtered_albums_df.head()"
   ]
  },
  {
   "cell_type": "markdown",
   "metadata": {},
   "source": [
    "### Ugh still multiple albums\n",
    "If duplicates, rank but number of tracks and take one row per album name"
   ]
  },
  {
   "cell_type": "code",
   "execution_count": 18,
   "metadata": {},
   "outputs": [],
   "source": [
    "filtered_albums_df['album_rank'] = filtered_albums_df.groupby('name')['total_tracks'].rank(method='first', ascending=False)"
   ]
  },
  {
   "cell_type": "code",
   "execution_count": 21,
   "metadata": {},
   "outputs": [
    {
     "data": {
      "text/html": [
       "<div>\n",
       "<style scoped>\n",
       "    .dataframe tbody tr th:only-of-type {\n",
       "        vertical-align: middle;\n",
       "    }\n",
       "\n",
       "    .dataframe tbody tr th {\n",
       "        vertical-align: top;\n",
       "    }\n",
       "\n",
       "    .dataframe thead th {\n",
       "        text-align: right;\n",
       "    }\n",
       "</style>\n",
       "<table border=\"1\" class=\"dataframe\">\n",
       "  <thead>\n",
       "    <tr style=\"text-align: right;\">\n",
       "      <th></th>\n",
       "      <th>name</th>\n",
       "      <th>id</th>\n",
       "    </tr>\n",
       "  </thead>\n",
       "  <tbody>\n",
       "    <tr>\n",
       "      <th>1</th>\n",
       "      <td>THE TORTURED POETS DEPARTMENT</td>\n",
       "      <td>1Mo4aZ8pdj6L1jx8zSwJnt</td>\n",
       "    </tr>\n",
       "    <tr>\n",
       "      <th>7</th>\n",
       "      <td>Midnights</td>\n",
       "      <td>151w1FgRZfnKZA9FEcg9Z3</td>\n",
       "    </tr>\n",
       "    <tr>\n",
       "      <th>11</th>\n",
       "      <td>evermore</td>\n",
       "      <td>2Xoteh7uEpea4TohMxjtaq</td>\n",
       "    </tr>\n",
       "    <tr>\n",
       "      <th>14</th>\n",
       "      <td>folklore</td>\n",
       "      <td>2fenSS68JI1h4Fo296JfGr</td>\n",
       "    </tr>\n",
       "    <tr>\n",
       "      <th>15</th>\n",
       "      <td>Lover</td>\n",
       "      <td>1NAmidJlEaVgA3MpcPFYGq</td>\n",
       "    </tr>\n",
       "    <tr>\n",
       "      <th>16</th>\n",
       "      <td>reputation</td>\n",
       "      <td>6DEjYFkNZh67HP7R9PSZvv</td>\n",
       "    </tr>\n",
       "    <tr>\n",
       "      <th>19</th>\n",
       "      <td>1989</td>\n",
       "      <td>2QJmrSgbdM35R67eoGQo4j</td>\n",
       "    </tr>\n",
       "    <tr>\n",
       "      <th>21</th>\n",
       "      <td>Red</td>\n",
       "      <td>1EoDsNmgTLtmwe1BDAVxV5</td>\n",
       "    </tr>\n",
       "    <tr>\n",
       "      <th>24</th>\n",
       "      <td>Speak Now</td>\n",
       "      <td>5MfAxS5zz8MlfROjGQVXhy</td>\n",
       "    </tr>\n",
       "    <tr>\n",
       "      <th>26</th>\n",
       "      <td>Fearless</td>\n",
       "      <td>2dqn5yOQWdyGwOpOIi9O4x</td>\n",
       "    </tr>\n",
       "    <tr>\n",
       "      <th>28</th>\n",
       "      <td>Taylor Swift</td>\n",
       "      <td>7mzrIsaAjnXihW3InKjlC3</td>\n",
       "    </tr>\n",
       "  </tbody>\n",
       "</table>\n",
       "</div>"
      ],
      "text/plain": [
       "                             name                      id\n",
       "1   THE TORTURED POETS DEPARTMENT  1Mo4aZ8pdj6L1jx8zSwJnt\n",
       "7                       Midnights  151w1FgRZfnKZA9FEcg9Z3\n",
       "11                       evermore  2Xoteh7uEpea4TohMxjtaq\n",
       "14                       folklore  2fenSS68JI1h4Fo296JfGr\n",
       "15                          Lover  1NAmidJlEaVgA3MpcPFYGq\n",
       "16                     reputation  6DEjYFkNZh67HP7R9PSZvv\n",
       "19                           1989  2QJmrSgbdM35R67eoGQo4j\n",
       "21                            Red  1EoDsNmgTLtmwe1BDAVxV5\n",
       "24                      Speak Now  5MfAxS5zz8MlfROjGQVXhy\n",
       "26                       Fearless  2dqn5yOQWdyGwOpOIi9O4x\n",
       "28                   Taylor Swift  7mzrIsaAjnXihW3InKjlC3"
      ]
     },
     "execution_count": 21,
     "metadata": {},
     "output_type": "execute_result"
    }
   ],
   "source": [
    "top_filtered_albums = filtered_albums_df[filtered_albums_df['album_rank']==1].copy()\n",
    "top_filtered_albums[['name','id']]"
   ]
  },
  {
   "cell_type": "code",
   "execution_count": 20,
   "metadata": {},
   "outputs": [],
   "source": [
    "top_filtered_albums.to_csv(\"taylor_swift_top_filtered_albums.csv\", index=False)"
   ]
  },
  {
   "cell_type": "markdown",
   "metadata": {},
   "source": [
    "### Okay now we can grab the track names!"
   ]
  },
  {
   "cell_type": "markdown",
   "metadata": {},
   "source": [
    "Update - check what's already downloaded"
   ]
  },
  {
   "cell_type": "code",
   "execution_count": 23,
   "metadata": {},
   "outputs": [
    {
     "data": {
      "text/html": [
       "<div>\n",
       "<style scoped>\n",
       "    .dataframe tbody tr th:only-of-type {\n",
       "        vertical-align: middle;\n",
       "    }\n",
       "\n",
       "    .dataframe tbody tr th {\n",
       "        vertical-align: top;\n",
       "    }\n",
       "\n",
       "    .dataframe thead th {\n",
       "        text-align: right;\n",
       "    }\n",
       "</style>\n",
       "<table border=\"1\" class=\"dataframe\">\n",
       "  <thead>\n",
       "    <tr style=\"text-align: right;\">\n",
       "      <th></th>\n",
       "      <th>album_name</th>\n",
       "    </tr>\n",
       "  </thead>\n",
       "  <tbody>\n",
       "    <tr>\n",
       "      <th>0</th>\n",
       "      <td>Fearless</td>\n",
       "    </tr>\n",
       "    <tr>\n",
       "      <th>1</th>\n",
       "      <td>folklore</td>\n",
       "    </tr>\n",
       "    <tr>\n",
       "      <th>3</th>\n",
       "      <td>Lover</td>\n",
       "    </tr>\n",
       "    <tr>\n",
       "      <th>4</th>\n",
       "      <td>Taylor Swift</td>\n",
       "    </tr>\n",
       "    <tr>\n",
       "      <th>5</th>\n",
       "      <td>Midnights</td>\n",
       "    </tr>\n",
       "    <tr>\n",
       "      <th>7</th>\n",
       "      <td>evermore</td>\n",
       "    </tr>\n",
       "    <tr>\n",
       "      <th>12</th>\n",
       "      <td>1989</td>\n",
       "    </tr>\n",
       "    <tr>\n",
       "      <th>20</th>\n",
       "      <td>Speak Now</td>\n",
       "    </tr>\n",
       "    <tr>\n",
       "      <th>29</th>\n",
       "      <td>reputation</td>\n",
       "    </tr>\n",
       "    <tr>\n",
       "      <th>100</th>\n",
       "      <td>Red</td>\n",
       "    </tr>\n",
       "  </tbody>\n",
       "</table>\n",
       "</div>"
      ],
      "text/plain": [
       "       album_name\n",
       "0        Fearless\n",
       "1        folklore\n",
       "3           Lover\n",
       "4    Taylor Swift\n",
       "5       Midnights\n",
       "7        evermore\n",
       "12           1989\n",
       "20      Speak Now\n",
       "29     reputation\n",
       "100           Red"
      ]
     },
     "execution_count": 23,
     "metadata": {},
     "output_type": "execute_result"
    }
   ],
   "source": [
    "lyric_file_list = glob.glob('lyric_files/*.txt')\n",
    "downloaded_songs = pd.DataFrame([(file_name,file_name.split('/')[-1].split('.txt')[0].split('-')[0]\n",
    ",'-'.join(file_name.split('/')[-1].split('.txt')[0].split('-')[1:])) for file_name in lyric_file_list]\n",
    ",columns=['file_path','album_name','name'])\n",
    "albums_with_downloaded_songs = downloaded_songs[['album_name']].drop_duplicates()\n",
    "albums_with_downloaded_songs"
   ]
  },
  {
   "cell_type": "code",
   "execution_count": 26,
   "metadata": {},
   "outputs": [
    {
     "data": {
      "text/html": [
       "<div>\n",
       "<style scoped>\n",
       "    .dataframe tbody tr th:only-of-type {\n",
       "        vertical-align: middle;\n",
       "    }\n",
       "\n",
       "    .dataframe tbody tr th {\n",
       "        vertical-align: top;\n",
       "    }\n",
       "\n",
       "    .dataframe thead th {\n",
       "        text-align: right;\n",
       "    }\n",
       "</style>\n",
       "<table border=\"1\" class=\"dataframe\">\n",
       "  <thead>\n",
       "    <tr style=\"text-align: right;\">\n",
       "      <th></th>\n",
       "      <th>name</th>\n",
       "      <th>id</th>\n",
       "    </tr>\n",
       "  </thead>\n",
       "  <tbody>\n",
       "    <tr>\n",
       "      <th>0</th>\n",
       "      <td>THE TORTURED POETS DEPARTMENT</td>\n",
       "      <td>1Mo4aZ8pdj6L1jx8zSwJnt</td>\n",
       "    </tr>\n",
       "  </tbody>\n",
       "</table>\n",
       "</div>"
      ],
      "text/plain": [
       "                            name                      id\n",
       "0  THE TORTURED POETS DEPARTMENT  1Mo4aZ8pdj6L1jx8zSwJnt"
      ]
     },
     "execution_count": 26,
     "metadata": {},
     "output_type": "execute_result"
    }
   ],
   "source": [
    "album_needs_tracks_download = top_filtered_albums.merge(albums_with_downloaded_songs, how='left', left_on='name', right_on='album_name').query(\"album_name != album_name\")\n",
    "album_needs_tracks_download[['name','id']]"
   ]
  },
  {
   "cell_type": "code",
   "execution_count": 27,
   "metadata": {},
   "outputs": [],
   "source": [
    "album_df_list = []\n",
    "for idx, row in album_needs_tracks_download.iterrows():\n",
    "    album_name = row['name']\n",
    "    album_id = row['id']\n",
    "    album_tracks = sp.album_tracks(album_id=album_id)\n",
    "    album_df = pd.DataFrame(album_tracks['items'])\n",
    "    album_df['album_name'] = album_name\n",
    "    album_df_list.append(album_df)"
   ]
  },
  {
   "cell_type": "code",
   "execution_count": 28,
   "metadata": {},
   "outputs": [
    {
     "data": {
      "text/html": [
       "<div>\n",
       "<style scoped>\n",
       "    .dataframe tbody tr th:only-of-type {\n",
       "        vertical-align: middle;\n",
       "    }\n",
       "\n",
       "    .dataframe tbody tr th {\n",
       "        vertical-align: top;\n",
       "    }\n",
       "\n",
       "    .dataframe thead th {\n",
       "        text-align: right;\n",
       "    }\n",
       "</style>\n",
       "<table border=\"1\" class=\"dataframe\">\n",
       "  <thead>\n",
       "    <tr style=\"text-align: right;\">\n",
       "      <th></th>\n",
       "      <th>artists</th>\n",
       "      <th>available_markets</th>\n",
       "      <th>disc_number</th>\n",
       "      <th>duration_ms</th>\n",
       "      <th>explicit</th>\n",
       "      <th>external_urls</th>\n",
       "      <th>href</th>\n",
       "      <th>id</th>\n",
       "      <th>is_local</th>\n",
       "      <th>name</th>\n",
       "      <th>preview_url</th>\n",
       "      <th>track_number</th>\n",
       "      <th>type</th>\n",
       "      <th>uri</th>\n",
       "      <th>album_name</th>\n",
       "    </tr>\n",
       "  </thead>\n",
       "  <tbody>\n",
       "    <tr>\n",
       "      <th>0</th>\n",
       "      <td>[{'external_urls': {'spotify': 'https://open.s...</td>\n",
       "      <td>[AR, AU, AT, BE, BO, BR, BG, CA, CL, CO, CR, C...</td>\n",
       "      <td>1</td>\n",
       "      <td>228965</td>\n",
       "      <td>False</td>\n",
       "      <td>{'spotify': 'https://open.spotify.com/track/2O...</td>\n",
       "      <td>https://api.spotify.com/v1/tracks/2OzhQlSqBEmt...</td>\n",
       "      <td>2OzhQlSqBEmt7hmkYxfT6m</td>\n",
       "      <td>False</td>\n",
       "      <td>Fortnight (feat. Post Malone)</td>\n",
       "      <td>None</td>\n",
       "      <td>1</td>\n",
       "      <td>track</td>\n",
       "      <td>spotify:track:2OzhQlSqBEmt7hmkYxfT6m</td>\n",
       "      <td>THE TORTURED POETS DEPARTMENT</td>\n",
       "    </tr>\n",
       "    <tr>\n",
       "      <th>1</th>\n",
       "      <td>[{'external_urls': {'spotify': 'https://open.s...</td>\n",
       "      <td>[AR, AU, AT, BE, BO, BR, BG, CA, CL, CO, CR, C...</td>\n",
       "      <td>1</td>\n",
       "      <td>293048</td>\n",
       "      <td>True</td>\n",
       "      <td>{'spotify': 'https://open.spotify.com/track/3N...</td>\n",
       "      <td>https://api.spotify.com/v1/tracks/3NMrVbIVWT3f...</td>\n",
       "      <td>3NMrVbIVWT3fPXBj0rNDKG</td>\n",
       "      <td>False</td>\n",
       "      <td>The Tortured Poets Department</td>\n",
       "      <td>None</td>\n",
       "      <td>2</td>\n",
       "      <td>track</td>\n",
       "      <td>spotify:track:3NMrVbIVWT3fPXBj0rNDKG</td>\n",
       "      <td>THE TORTURED POETS DEPARTMENT</td>\n",
       "    </tr>\n",
       "    <tr>\n",
       "      <th>2</th>\n",
       "      <td>[{'external_urls': {'spotify': 'https://open.s...</td>\n",
       "      <td>[AR, AU, AT, BE, BO, BR, BG, CA, CL, CO, CR, C...</td>\n",
       "      <td>1</td>\n",
       "      <td>203801</td>\n",
       "      <td>False</td>\n",
       "      <td>{'spotify': 'https://open.spotify.com/track/2X...</td>\n",
       "      <td>https://api.spotify.com/v1/tracks/2XXwLdtuAcE0...</td>\n",
       "      <td>2XXwLdtuAcE0HSCu61ijAb</td>\n",
       "      <td>False</td>\n",
       "      <td>My Boy Only Breaks His Favorite Toys</td>\n",
       "      <td>None</td>\n",
       "      <td>3</td>\n",
       "      <td>track</td>\n",
       "      <td>spotify:track:2XXwLdtuAcE0HSCu61ijAb</td>\n",
       "      <td>THE TORTURED POETS DEPARTMENT</td>\n",
       "    </tr>\n",
       "  </tbody>\n",
       "</table>\n",
       "</div>"
      ],
      "text/plain": [
       "                                             artists   \n",
       "0  [{'external_urls': {'spotify': 'https://open.s...  \\\n",
       "1  [{'external_urls': {'spotify': 'https://open.s...   \n",
       "2  [{'external_urls': {'spotify': 'https://open.s...   \n",
       "\n",
       "                                   available_markets  disc_number   \n",
       "0  [AR, AU, AT, BE, BO, BR, BG, CA, CL, CO, CR, C...            1  \\\n",
       "1  [AR, AU, AT, BE, BO, BR, BG, CA, CL, CO, CR, C...            1   \n",
       "2  [AR, AU, AT, BE, BO, BR, BG, CA, CL, CO, CR, C...            1   \n",
       "\n",
       "   duration_ms  explicit                                      external_urls   \n",
       "0       228965     False  {'spotify': 'https://open.spotify.com/track/2O...  \\\n",
       "1       293048      True  {'spotify': 'https://open.spotify.com/track/3N...   \n",
       "2       203801     False  {'spotify': 'https://open.spotify.com/track/2X...   \n",
       "\n",
       "                                                href                      id   \n",
       "0  https://api.spotify.com/v1/tracks/2OzhQlSqBEmt...  2OzhQlSqBEmt7hmkYxfT6m  \\\n",
       "1  https://api.spotify.com/v1/tracks/3NMrVbIVWT3f...  3NMrVbIVWT3fPXBj0rNDKG   \n",
       "2  https://api.spotify.com/v1/tracks/2XXwLdtuAcE0...  2XXwLdtuAcE0HSCu61ijAb   \n",
       "\n",
       "   is_local                                  name preview_url  track_number   \n",
       "0     False         Fortnight (feat. Post Malone)        None             1  \\\n",
       "1     False         The Tortured Poets Department        None             2   \n",
       "2     False  My Boy Only Breaks His Favorite Toys        None             3   \n",
       "\n",
       "    type                                   uri                     album_name  \n",
       "0  track  spotify:track:2OzhQlSqBEmt7hmkYxfT6m  THE TORTURED POETS DEPARTMENT  \n",
       "1  track  spotify:track:3NMrVbIVWT3fPXBj0rNDKG  THE TORTURED POETS DEPARTMENT  \n",
       "2  track  spotify:track:2XXwLdtuAcE0HSCu61ijAb  THE TORTURED POETS DEPARTMENT  "
      ]
     },
     "execution_count": 28,
     "metadata": {},
     "output_type": "execute_result"
    }
   ],
   "source": [
    "all_albums_with_tracks = pd.concat(album_df_list)\n",
    "all_albums_with_tracks.head(3)"
   ]
  },
  {
   "cell_type": "code",
   "execution_count": 29,
   "metadata": {},
   "outputs": [
    {
     "data": {
      "text/plain": [
       "(16, 15)"
      ]
     },
     "execution_count": 29,
     "metadata": {},
     "output_type": "execute_result"
    }
   ],
   "source": [
    "all_albums_with_tracks.shape"
   ]
  },
  {
   "cell_type": "code",
   "execution_count": 33,
   "metadata": {},
   "outputs": [],
   "source": [
    "all_albums_with_tracks.to_csv(f\"taylor_swift_albums_with_tracks_update_{datetime.datetime.now().strftime('%Y%m%d')}.csv\", index=False)"
   ]
  },
  {
   "cell_type": "code",
   "execution_count": 34,
   "metadata": {},
   "outputs": [],
   "source": [
    "genius = Genius(access_token=os.environ['genius_client_access_token'])"
   ]
  },
  {
   "cell_type": "code",
   "execution_count": 35,
   "metadata": {},
   "outputs": [
    {
     "name": "stdout",
     "output_type": "stream",
     "text": [
      "Searching for songs by Taylor Swift...\n",
      "\n",
      "\"1989 Interview with Paul McGuire\" is not valid. Skipping.\n",
      "\"1989 [Liner Notes]\" is not valid. Skipping.\n",
      "Song 1: \"1989 (Taylor’s Version) [Prologue]\"\n",
      "\n",
      "Reached user-specified song limit (1).\n",
      "Done. Found 1 songs.\n"
     ]
    }
   ],
   "source": [
    "artist = genius.search_artist(\"Taylor Swift\", max_songs=1, sort=\"title\")"
   ]
  },
  {
   "cell_type": "code",
   "execution_count": 37,
   "metadata": {},
   "outputs": [
    {
     "name": "stdout",
     "output_type": "stream",
     "text": [
      "Searching for \"Fortnight (feat. Post Malone)\" by Taylor Swift...\n",
      "Done.\n",
      "Searching for \"The Tortured Poets Department\" by Taylor Swift...\n",
      "Done.\n",
      "Searching for \"My Boy Only Breaks His Favorite Toys\" by Taylor Swift...\n",
      "Done.\n",
      "Searching for \"Down Bad\" by Taylor Swift...\n",
      "Done.\n",
      "Searching for \"So Long, London\" by Taylor Swift...\n",
      "Done.\n",
      "Searching for \"But Daddy I Love Him\" by Taylor Swift...\n",
      "Done.\n",
      "Searching for \"Fresh Out The Slammer\" by Taylor Swift...\n",
      "Done.\n",
      "Searching for \"Florida!!! (feat. Florence + The Machine)\" by Taylor Swift...\n",
      "Done.\n",
      "Searching for \"Guilty as Sin?\" by Taylor Swift...\n",
      "Done.\n",
      "Searching for \"Who’s Afraid of Little Old Me?\" by Taylor Swift...\n",
      "Done.\n",
      "Searching for \"I Can Fix Him (No Really I Can)\" by Taylor Swift...\n",
      "Done.\n",
      "Searching for \"loml\" by Taylor Swift...\n",
      "Done.\n",
      "Searching for \"I Can Do It With a Broken Heart\" by Taylor Swift...\n",
      "Done.\n",
      "Searching for \"The Smallest Man Who Ever Lived\" by Taylor Swift...\n",
      "Done.\n",
      "Searching for \"The Alchemy\" by Taylor Swift...\n",
      "Done.\n",
      "Searching for \"Clara Bow\" by Taylor Swift...\n",
      "Done.\n"
     ]
    }
   ],
   "source": [
    "for idx, row in all_albums_with_tracks.iterrows():\n",
    "    album_name = row['album_name']\n",
    "    song_name = row['name']\n",
    "    #skip karaoke versions of songs and skip long story short because genius' API has a glitch\n",
    "    #for the lyrics for that song\n",
    "    if ('karaoke' not in song_name.lower()) and ('long story short' not in song_name.lower()):\n",
    "        genuis_song_record = artist.song(song_name)\n",
    "        if genuis_song_record is not None:\n",
    "            with open(f'lyric_files/{album_name}-{song_name}.txt', 'w') as f:\n",
    "                f.write(genuis_song_record.lyrics)"
   ]
  },
  {
   "cell_type": "markdown",
   "metadata": {},
   "source": [
    "### If timeout of failure\n",
    "Run the following cells to get the downloaded songs, join back with the original and see what's left to download. This could be more graceful but it works for now."
   ]
  },
  {
   "cell_type": "code",
   "execution_count": 38,
   "metadata": {},
   "outputs": [],
   "source": [
    "lyric_file_list = glob.glob('lyric_files/*.txt')"
   ]
  },
  {
   "cell_type": "code",
   "execution_count": 39,
   "metadata": {},
   "outputs": [
    {
     "data": {
      "text/html": [
       "<div>\n",
       "<style scoped>\n",
       "    .dataframe tbody tr th:only-of-type {\n",
       "        vertical-align: middle;\n",
       "    }\n",
       "\n",
       "    .dataframe tbody tr th {\n",
       "        vertical-align: top;\n",
       "    }\n",
       "\n",
       "    .dataframe thead th {\n",
       "        text-align: right;\n",
       "    }\n",
       "</style>\n",
       "<table border=\"1\" class=\"dataframe\">\n",
       "  <thead>\n",
       "    <tr style=\"text-align: right;\">\n",
       "      <th></th>\n",
       "      <th>album_name</th>\n",
       "      <th>name</th>\n",
       "      <th>is_downloaded</th>\n",
       "    </tr>\n",
       "  </thead>\n",
       "  <tbody>\n",
       "    <tr>\n",
       "      <th>0</th>\n",
       "      <td>Fearless</td>\n",
       "      <td>Tell Me Why</td>\n",
       "      <td>1</td>\n",
       "    </tr>\n",
       "    <tr>\n",
       "      <th>1</th>\n",
       "      <td>folklore</td>\n",
       "      <td>hoax</td>\n",
       "      <td>1</td>\n",
       "    </tr>\n",
       "    <tr>\n",
       "      <th>2</th>\n",
       "      <td>folklore</td>\n",
       "      <td>the 1</td>\n",
       "      <td>1</td>\n",
       "    </tr>\n",
       "  </tbody>\n",
       "</table>\n",
       "</div>"
      ],
      "text/plain": [
       "  album_name         name  is_downloaded\n",
       "0   Fearless  Tell Me Why              1\n",
       "1   folklore         hoax              1\n",
       "2   folklore        the 1              1"
      ]
     },
     "execution_count": 39,
     "metadata": {},
     "output_type": "execute_result"
    }
   ],
   "source": [
    "downloaded_songs = pd.DataFrame([(file_name.split('/')[-1].split('.txt')[0].split('-')[0]\n",
    ",'-'.join(file_name.split('/')[-1].split('.txt')[0].split('-')[1:])) for file_name in lyric_file_list]\n",
    ",columns=['album_name','name'])\n",
    "downloaded_songs['is_downloaded'] = 1\n",
    "downloaded_songs.head(3)"
   ]
  },
  {
   "cell_type": "code",
   "execution_count": 41,
   "metadata": {},
   "outputs": [],
   "source": [
    "all_album_compare_with_downloaded = all_albums_with_tracks.merge(downloaded_songs, how='left', on=['album_name','name'])"
   ]
  },
  {
   "cell_type": "code",
   "execution_count": 42,
   "metadata": {},
   "outputs": [
    {
     "data": {
      "text/html": [
       "<div>\n",
       "<style scoped>\n",
       "    .dataframe tbody tr th:only-of-type {\n",
       "        vertical-align: middle;\n",
       "    }\n",
       "\n",
       "    .dataframe tbody tr th {\n",
       "        vertical-align: top;\n",
       "    }\n",
       "\n",
       "    .dataframe thead th {\n",
       "        text-align: right;\n",
       "    }\n",
       "</style>\n",
       "<table border=\"1\" class=\"dataframe\">\n",
       "  <thead>\n",
       "    <tr style=\"text-align: right;\">\n",
       "      <th></th>\n",
       "      <th>artists</th>\n",
       "      <th>available_markets</th>\n",
       "      <th>disc_number</th>\n",
       "      <th>duration_ms</th>\n",
       "      <th>explicit</th>\n",
       "      <th>external_urls</th>\n",
       "      <th>href</th>\n",
       "      <th>id</th>\n",
       "      <th>is_local</th>\n",
       "      <th>name</th>\n",
       "      <th>preview_url</th>\n",
       "      <th>track_number</th>\n",
       "      <th>type</th>\n",
       "      <th>uri</th>\n",
       "      <th>album_name</th>\n",
       "      <th>is_downloaded</th>\n",
       "    </tr>\n",
       "  </thead>\n",
       "  <tbody>\n",
       "  </tbody>\n",
       "</table>\n",
       "</div>"
      ],
      "text/plain": [
       "Empty DataFrame\n",
       "Columns: [artists, available_markets, disc_number, duration_ms, explicit, external_urls, href, id, is_local, name, preview_url, track_number, type, uri, album_name, is_downloaded]\n",
       "Index: []"
      ]
     },
     "execution_count": 42,
     "metadata": {},
     "output_type": "execute_result"
    }
   ],
   "source": [
    "still_need_album_tracks = all_album_compare_with_downloaded[(all_album_compare_with_downloaded['is_downloaded'].isna())].copy()\n",
    "still_need_album_tracks.head(3)"
   ]
  },
  {
   "cell_type": "code",
   "execution_count": 188,
   "metadata": {},
   "outputs": [
    {
     "name": "stdout",
     "output_type": "stream",
     "text": [
      "Searching for \"long story short\" by Taylor Swift...\n",
      "Done.\n"
     ]
    }
   ],
   "source": [
    "for idx, row in still_need_album_tracks.iterrows():\n",
    "    album_name = row['album_name']\n",
    "    song_name = row['name']\n",
    "    if 'karaoke' not in song_name.lower():\n",
    "        genuis_song_record = artist.song(song_name)\n",
    "        if genuis_song_record is not None:\n",
    "            with open(f'lyric_files/{album_name}-{song_name}.txt', 'w') as f:\n",
    "                f.write(genuis_song_record.lyrics)"
   ]
  },
  {
   "cell_type": "code",
   "execution_count": null,
   "metadata": {},
   "outputs": [],
   "source": []
  }
 ],
 "metadata": {
  "kernelspec": {
   "display_name": "Python 3.10.6 ('taylor-lyrics')",
   "language": "python",
   "name": "python3"
  },
  "language_info": {
   "codemirror_mode": {
    "name": "ipython",
    "version": 3
   },
   "file_extension": ".py",
   "mimetype": "text/x-python",
   "name": "python",
   "nbconvert_exporter": "python",
   "pygments_lexer": "ipython3",
   "version": "3.10.6"
  },
  "orig_nbformat": 4,
  "vscode": {
   "interpreter": {
    "hash": "9b6d40124c9b78946a26911f2838d4f4ca503ba5530a2433fd73c253d3811291"
   }
  }
 },
 "nbformat": 4,
 "nbformat_minor": 2
}
