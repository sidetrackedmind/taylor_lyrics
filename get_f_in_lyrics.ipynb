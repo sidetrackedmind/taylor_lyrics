{
 "cells": [
  {
   "cell_type": "code",
   "execution_count": 86,
   "metadata": {},
   "outputs": [],
   "source": [
    "import spacy\n",
    "import glob\n",
    "import pandas as pd\n",
    "import matplotlib.pyplot as plt\n",
    "import seaborn as sns\n",
    "#need to first run python -m spacy download en_core_web_sm\n",
    "nlp = spacy.load(\"en_core_web_sm\")"
   ]
  },
  {
   "cell_type": "markdown",
   "metadata": {},
   "source": [
    "Simple test"
   ]
  },
  {
   "cell_type": "code",
   "execution_count": 77,
   "metadata": {},
   "outputs": [
    {
     "name": "stdout",
     "output_type": "stream",
     "text": [
      "this 1995909169258310477 this\n",
      "is 10382539506755952630 be\n",
      "taylor 15315501216784911612 taylor\n",
      "'s 16428057658620181782 's\n",
      "fucking 12903434802346126505 fuck\n",
      "fucked 12903434802346126505 fuck\n",
      "fuck 12903434802346126505 fuck\n",
      "displaying 7988947642011127135 display\n",
      "words 11916616154811659322 word\n",
      "lyrics 8880186832239517916 lyric\n"
     ]
    }
   ],
   "source": [
    "doc = nlp(\"this is taylor's fucking fucked fuck displaying words lyrics\")\n",
    "for token in doc:\n",
    "    print(token, token.lemma, token.lemma_)"
   ]
  },
  {
   "cell_type": "markdown",
   "metadata": {},
   "source": [
    "Import a song"
   ]
  },
  {
   "cell_type": "code",
   "execution_count": 78,
   "metadata": {},
   "outputs": [
    {
     "data": {
      "text/html": [
       "<div>\n",
       "<style scoped>\n",
       "    .dataframe tbody tr th:only-of-type {\n",
       "        vertical-align: middle;\n",
       "    }\n",
       "\n",
       "    .dataframe tbody tr th {\n",
       "        vertical-align: top;\n",
       "    }\n",
       "\n",
       "    .dataframe thead th {\n",
       "        text-align: right;\n",
       "    }\n",
       "</style>\n",
       "<table border=\"1\" class=\"dataframe\">\n",
       "  <thead>\n",
       "    <tr style=\"text-align: right;\">\n",
       "      <th></th>\n",
       "      <th>file_path</th>\n",
       "      <th>album_name</th>\n",
       "      <th>name</th>\n",
       "    </tr>\n",
       "  </thead>\n",
       "  <tbody>\n",
       "    <tr>\n",
       "      <th>0</th>\n",
       "      <td>lyric_files/Fearless-Tell Me Why.txt</td>\n",
       "      <td>Fearless</td>\n",
       "      <td>Tell Me Why</td>\n",
       "    </tr>\n",
       "    <tr>\n",
       "      <th>1</th>\n",
       "      <td>lyric_files/folklore-hoax.txt</td>\n",
       "      <td>folklore</td>\n",
       "      <td>hoax</td>\n",
       "    </tr>\n",
       "    <tr>\n",
       "      <th>2</th>\n",
       "      <td>lyric_files/folklore-the 1.txt</td>\n",
       "      <td>folklore</td>\n",
       "      <td>the 1</td>\n",
       "    </tr>\n",
       "  </tbody>\n",
       "</table>\n",
       "</div>"
      ],
      "text/plain": [
       "                              file_path album_name         name\n",
       "0  lyric_files/Fearless-Tell Me Why.txt   Fearless  Tell Me Why\n",
       "1         lyric_files/folklore-hoax.txt   folklore         hoax\n",
       "2        lyric_files/folklore-the 1.txt   folklore        the 1"
      ]
     },
     "execution_count": 78,
     "metadata": {},
     "output_type": "execute_result"
    }
   ],
   "source": [
    "lyric_file_list = glob.glob('lyric_files/*.txt')\n",
    "downloaded_songs = pd.DataFrame([(file_name,file_name.split('/')[-1].split('.txt')[0].split('-')[0]\n",
    ",'-'.join(file_name.split('/')[-1].split('.txt')[0].split('-')[1:])) for file_name in lyric_file_list]\n",
    ",columns=['file_path','album_name','name'])\n",
    "downloaded_songs.head(3)"
   ]
  },
  {
   "cell_type": "code",
   "execution_count": 79,
   "metadata": {},
   "outputs": [],
   "source": [
    "def get_number_of_fucks(file_path):\n",
    "    ''''''\n",
    "    with open(file_path, 'r') as f:\n",
    "        lyrics = f.read()\n",
    "        lower_lyrics = lyrics.lower()\n",
    "    doc = nlp(lower_lyrics)\n",
    "    fuck_count = len([token.lemma_ for token in doc if 'fuck' in token.lemma_])\n",
    "    return fuck_count"
   ]
  },
  {
   "cell_type": "code",
   "execution_count": 80,
   "metadata": {},
   "outputs": [],
   "source": [
    "downloaded_songs['fuck_count'] = downloaded_songs['file_path'].apply(lambda x: get_number_of_fucks(x))"
   ]
  },
  {
   "cell_type": "code",
   "execution_count": 82,
   "metadata": {},
   "outputs": [
    {
     "data": {
      "text/html": [
       "<div>\n",
       "<style scoped>\n",
       "    .dataframe tbody tr th:only-of-type {\n",
       "        vertical-align: middle;\n",
       "    }\n",
       "\n",
       "    .dataframe tbody tr th {\n",
       "        vertical-align: top;\n",
       "    }\n",
       "\n",
       "    .dataframe thead th {\n",
       "        text-align: right;\n",
       "    }\n",
       "</style>\n",
       "<table border=\"1\" class=\"dataframe\">\n",
       "  <thead>\n",
       "    <tr style=\"text-align: right;\">\n",
       "      <th></th>\n",
       "      <th>album_group</th>\n",
       "      <th>album_type</th>\n",
       "      <th>artists</th>\n",
       "      <th>available_markets</th>\n",
       "      <th>external_urls</th>\n",
       "      <th>href</th>\n",
       "      <th>id</th>\n",
       "      <th>images</th>\n",
       "      <th>album_name</th>\n",
       "      <th>release_date</th>\n",
       "      <th>release_date_precision</th>\n",
       "      <th>total_tracks</th>\n",
       "      <th>type</th>\n",
       "      <th>uri</th>\n",
       "      <th>album_rank</th>\n",
       "    </tr>\n",
       "  </thead>\n",
       "  <tbody>\n",
       "    <tr>\n",
       "      <th>0</th>\n",
       "      <td>album</td>\n",
       "      <td>album</td>\n",
       "      <td>[{'external_urls': {'spotify': 'https://open.s...</td>\n",
       "      <td>['JP']</td>\n",
       "      <td>{'spotify': 'https://open.spotify.com/album/3M...</td>\n",
       "      <td>https://api.spotify.com/v1/albums/3Mvk2LKxfhc2...</td>\n",
       "      <td>3Mvk2LKxfhc2KVSnDYC40I</td>\n",
       "      <td>[{'height': 640, 'url': 'https://i.scdn.co/ima...</td>\n",
       "      <td>Fearless</td>\n",
       "      <td>2008-11-11</td>\n",
       "      <td>day</td>\n",
       "      <td>20</td>\n",
       "      <td>album</td>\n",
       "      <td>spotify:album:3Mvk2LKxfhc2KVSnDYC40I</td>\n",
       "      <td>1.0</td>\n",
       "    </tr>\n",
       "    <tr>\n",
       "      <th>1</th>\n",
       "      <td>album</td>\n",
       "      <td>album</td>\n",
       "      <td>[{'external_urls': {'spotify': 'https://open.s...</td>\n",
       "      <td>['AE', 'AG', 'AL', 'AM', 'AO', 'AR', 'AT', 'AU...</td>\n",
       "      <td>{'spotify': 'https://open.spotify.com/album/5e...</td>\n",
       "      <td>https://api.spotify.com/v1/albums/5eyZZoQEFQWR...</td>\n",
       "      <td>5eyZZoQEFQWRHkV2xgAeBw</td>\n",
       "      <td>[{'height': 640, 'url': 'https://i.scdn.co/ima...</td>\n",
       "      <td>Taylor Swift</td>\n",
       "      <td>2006-10-24</td>\n",
       "      <td>day</td>\n",
       "      <td>15</td>\n",
       "      <td>album</td>\n",
       "      <td>spotify:album:5eyZZoQEFQWRHkV2xgAeBw</td>\n",
       "      <td>1.0</td>\n",
       "    </tr>\n",
       "    <tr>\n",
       "      <th>2</th>\n",
       "      <td>album</td>\n",
       "      <td>album</td>\n",
       "      <td>[{'external_urls': {'spotify': 'https://open.s...</td>\n",
       "      <td>['AD', 'AE', 'AG', 'AL', 'AM', 'AO', 'AR', 'AT...</td>\n",
       "      <td>{'spotify': 'https://open.spotify.com/album/15...</td>\n",
       "      <td>https://api.spotify.com/v1/albums/151w1FgRZfnK...</td>\n",
       "      <td>151w1FgRZfnKZA9FEcg9Z3</td>\n",
       "      <td>[{'height': 640, 'url': 'https://i.scdn.co/ima...</td>\n",
       "      <td>Midnights</td>\n",
       "      <td>2022-10-21</td>\n",
       "      <td>day</td>\n",
       "      <td>13</td>\n",
       "      <td>album</td>\n",
       "      <td>spotify:album:151w1FgRZfnKZA9FEcg9Z3</td>\n",
       "      <td>1.0</td>\n",
       "    </tr>\n",
       "  </tbody>\n",
       "</table>\n",
       "</div>"
      ],
      "text/plain": [
       "  album_group album_type                                            artists  \\\n",
       "0       album      album  [{'external_urls': {'spotify': 'https://open.s...   \n",
       "1       album      album  [{'external_urls': {'spotify': 'https://open.s...   \n",
       "2       album      album  [{'external_urls': {'spotify': 'https://open.s...   \n",
       "\n",
       "                                   available_markets  \\\n",
       "0                                             ['JP']   \n",
       "1  ['AE', 'AG', 'AL', 'AM', 'AO', 'AR', 'AT', 'AU...   \n",
       "2  ['AD', 'AE', 'AG', 'AL', 'AM', 'AO', 'AR', 'AT...   \n",
       "\n",
       "                                       external_urls  \\\n",
       "0  {'spotify': 'https://open.spotify.com/album/3M...   \n",
       "1  {'spotify': 'https://open.spotify.com/album/5e...   \n",
       "2  {'spotify': 'https://open.spotify.com/album/15...   \n",
       "\n",
       "                                                href                      id  \\\n",
       "0  https://api.spotify.com/v1/albums/3Mvk2LKxfhc2...  3Mvk2LKxfhc2KVSnDYC40I   \n",
       "1  https://api.spotify.com/v1/albums/5eyZZoQEFQWR...  5eyZZoQEFQWRHkV2xgAeBw   \n",
       "2  https://api.spotify.com/v1/albums/151w1FgRZfnK...  151w1FgRZfnKZA9FEcg9Z3   \n",
       "\n",
       "                                              images    album_name  \\\n",
       "0  [{'height': 640, 'url': 'https://i.scdn.co/ima...      Fearless   \n",
       "1  [{'height': 640, 'url': 'https://i.scdn.co/ima...  Taylor Swift   \n",
       "2  [{'height': 640, 'url': 'https://i.scdn.co/ima...     Midnights   \n",
       "\n",
       "  release_date release_date_precision  total_tracks   type  \\\n",
       "0   2008-11-11                    day            20  album   \n",
       "1   2006-10-24                    day            15  album   \n",
       "2   2022-10-21                    day            13  album   \n",
       "\n",
       "                                    uri  album_rank  \n",
       "0  spotify:album:3Mvk2LKxfhc2KVSnDYC40I         1.0  \n",
       "1  spotify:album:5eyZZoQEFQWRHkV2xgAeBw         1.0  \n",
       "2  spotify:album:151w1FgRZfnKZA9FEcg9Z3         1.0  "
      ]
     },
     "execution_count": 82,
     "metadata": {},
     "output_type": "execute_result"
    }
   ],
   "source": [
    "filtered_albums = pd.read_csv(\"taylor_swift_top_filtered_albums.csv\").rename(columns={'name':'album_name'})\n",
    "filtered_albums.head(3)"
   ]
  },
  {
   "cell_type": "code",
   "execution_count": 83,
   "metadata": {},
   "outputs": [],
   "source": [
    "albums_tracks_fucks = filtered_albums[['album_name','release_date']].merge(downloaded_songs, how='left', on=['album_name'])"
   ]
  },
  {
   "cell_type": "code",
   "execution_count": 84,
   "metadata": {},
   "outputs": [],
   "source": [
    "albums_tracks_fucks['release_date'] = pd.to_datetime(albums_tracks_fucks['release_date'])"
   ]
  },
  {
   "cell_type": "code",
   "execution_count": 108,
   "metadata": {},
   "outputs": [],
   "source": [
    "album_agg_fucks = albums_tracks_fucks.groupby(['album_name','release_date']).agg(num_fucks=('fuck_count','sum')).reset_index().sort_values('release_date')"
   ]
  },
  {
   "cell_type": "code",
   "execution_count": 110,
   "metadata": {},
   "outputs": [],
   "source": [
    "album_agg_fucks['album_with_year'] = album_agg_fucks.apply(lambda x: x['album_name']+'-'+x['release_date'].strftime('%y'), axis=1)"
   ]
  },
  {
   "cell_type": "code",
   "execution_count": 111,
   "metadata": {},
   "outputs": [
    {
     "data": {
      "text/html": [
       "<div>\n",
       "<style scoped>\n",
       "    .dataframe tbody tr th:only-of-type {\n",
       "        vertical-align: middle;\n",
       "    }\n",
       "\n",
       "    .dataframe tbody tr th {\n",
       "        vertical-align: top;\n",
       "    }\n",
       "\n",
       "    .dataframe thead th {\n",
       "        text-align: right;\n",
       "    }\n",
       "</style>\n",
       "<table border=\"1\" class=\"dataframe\">\n",
       "  <thead>\n",
       "    <tr style=\"text-align: right;\">\n",
       "      <th></th>\n",
       "      <th>album_name</th>\n",
       "      <th>release_date</th>\n",
       "      <th>num_fucks</th>\n",
       "      <th>album_with_year</th>\n",
       "    </tr>\n",
       "  </thead>\n",
       "  <tbody>\n",
       "    <tr>\n",
       "      <th>6</th>\n",
       "      <td>Taylor Swift</td>\n",
       "      <td>2006-10-24</td>\n",
       "      <td>0</td>\n",
       "      <td>Taylor Swift-06</td>\n",
       "    </tr>\n",
       "    <tr>\n",
       "      <th>1</th>\n",
       "      <td>Fearless</td>\n",
       "      <td>2008-11-11</td>\n",
       "      <td>0</td>\n",
       "      <td>Fearless-08</td>\n",
       "    </tr>\n",
       "    <tr>\n",
       "      <th>5</th>\n",
       "      <td>Speak Now</td>\n",
       "      <td>2010-10-25</td>\n",
       "      <td>0</td>\n",
       "      <td>Speak Now-10</td>\n",
       "    </tr>\n",
       "    <tr>\n",
       "      <th>4</th>\n",
       "      <td>Red</td>\n",
       "      <td>2012-10-22</td>\n",
       "      <td>0</td>\n",
       "      <td>Red-12</td>\n",
       "    </tr>\n",
       "    <tr>\n",
       "      <th>0</th>\n",
       "      <td>1989</td>\n",
       "      <td>2014-10-27</td>\n",
       "      <td>0</td>\n",
       "      <td>1989-14</td>\n",
       "    </tr>\n",
       "    <tr>\n",
       "      <th>9</th>\n",
       "      <td>reputation</td>\n",
       "      <td>2017-11-10</td>\n",
       "      <td>0</td>\n",
       "      <td>reputation-17</td>\n",
       "    </tr>\n",
       "    <tr>\n",
       "      <th>2</th>\n",
       "      <td>Lover</td>\n",
       "      <td>2019-08-23</td>\n",
       "      <td>0</td>\n",
       "      <td>Lover-19</td>\n",
       "    </tr>\n",
       "    <tr>\n",
       "      <th>8</th>\n",
       "      <td>folklore</td>\n",
       "      <td>2020-07-24</td>\n",
       "      <td>3</td>\n",
       "      <td>folklore-20</td>\n",
       "    </tr>\n",
       "    <tr>\n",
       "      <th>7</th>\n",
       "      <td>evermore</td>\n",
       "      <td>2020-12-11</td>\n",
       "      <td>2</td>\n",
       "      <td>evermore-20</td>\n",
       "    </tr>\n",
       "    <tr>\n",
       "      <th>3</th>\n",
       "      <td>Midnights</td>\n",
       "      <td>2022-10-21</td>\n",
       "      <td>4</td>\n",
       "      <td>Midnights-22</td>\n",
       "    </tr>\n",
       "  </tbody>\n",
       "</table>\n",
       "</div>"
      ],
      "text/plain": [
       "     album_name release_date  num_fucks  album_with_year\n",
       "6  Taylor Swift   2006-10-24          0  Taylor Swift-06\n",
       "1      Fearless   2008-11-11          0      Fearless-08\n",
       "5     Speak Now   2010-10-25          0     Speak Now-10\n",
       "4           Red   2012-10-22          0           Red-12\n",
       "0          1989   2014-10-27          0          1989-14\n",
       "9    reputation   2017-11-10          0    reputation-17\n",
       "2         Lover   2019-08-23          0         Lover-19\n",
       "8      folklore   2020-07-24          3      folklore-20\n",
       "7      evermore   2020-12-11          2      evermore-20\n",
       "3     Midnights   2022-10-21          4     Midnights-22"
      ]
     },
     "execution_count": 111,
     "metadata": {},
     "output_type": "execute_result"
    }
   ],
   "source": [
    "album_agg_fucks"
   ]
  },
  {
   "cell_type": "code",
   "execution_count": 114,
   "metadata": {},
   "outputs": [
    {
     "data": {
      "image/png": "[encoded data removed]",
      "text/plain": [
       "<Figure size 500x500 with 1 Axes>"
      ]
     },
     "metadata": {},
     "output_type": "display_data"
    }
   ],
   "source": [
    "fig, ax = plt.subplots(figsize=(5,5))\n",
    "sns.barplot(data=album_agg_fucks, x='album_name', y='num_fucks', ax=ax, color='blue')\n",
    "ax.set_title(\"Number of 'Fucks' In Lyrics \\n of Taylor Swift Albums\", fontsize=16, fontweight='bold')\n",
    "ax.set_xlabel(\"Album Name\", fontsize=14)\n",
    "ax.set_ylabel(\"Number of 'Fucks'\", fontsize=14)\n",
    "plt.yticks([1,2,3,4])\n",
    "_ = plt.xticks(rotation = 90)"
   ]
  },
  {
   "cell_type": "code",
   "execution_count": 92,
   "metadata": {},
   "outputs": [
    {
     "data": {
      "text/html": [
       "<div>\n",
       "<style scoped>\n",
       "    .dataframe tbody tr th:only-of-type {\n",
       "        vertical-align: middle;\n",
       "    }\n",
       "\n",
       "    .dataframe tbody tr th {\n",
       "        vertical-align: top;\n",
       "    }\n",
       "\n",
       "    .dataframe thead th {\n",
       "        text-align: right;\n",
       "    }\n",
       "</style>\n",
       "<table border=\"1\" class=\"dataframe\">\n",
       "  <thead>\n",
       "    <tr style=\"text-align: right;\">\n",
       "      <th></th>\n",
       "      <th>file_path</th>\n",
       "      <th>album_name</th>\n",
       "      <th>name</th>\n",
       "      <th>fuck_count</th>\n",
       "    </tr>\n",
       "  </thead>\n",
       "  <tbody>\n",
       "    <tr>\n",
       "      <th>5</th>\n",
       "      <td>lyric_files/Midnights-Maroon.txt</td>\n",
       "      <td>Midnights</td>\n",
       "      <td>Maroon</td>\n",
       "      <td>2</td>\n",
       "    </tr>\n",
       "    <tr>\n",
       "      <th>125</th>\n",
       "      <td>lyric_files/Midnights-Question...?.txt</td>\n",
       "      <td>Midnights</td>\n",
       "      <td>Question...?</td>\n",
       "      <td>2</td>\n",
       "    </tr>\n",
       "    <tr>\n",
       "      <th>22</th>\n",
       "      <td>lyric_files/folklore-betty.txt</td>\n",
       "      <td>folklore</td>\n",
       "      <td>betty</td>\n",
       "      <td>2</td>\n",
       "    </tr>\n",
       "    <tr>\n",
       "      <th>136</th>\n",
       "      <td>lyric_files/folklore-mad woman.txt</td>\n",
       "      <td>folklore</td>\n",
       "      <td>mad woman</td>\n",
       "      <td>1</td>\n",
       "    </tr>\n",
       "    <tr>\n",
       "      <th>75</th>\n",
       "      <td>lyric_files/evermore-cowboy like me.txt</td>\n",
       "      <td>evermore</td>\n",
       "      <td>cowboy like me</td>\n",
       "      <td>1</td>\n",
       "    </tr>\n",
       "    <tr>\n",
       "      <th>134</th>\n",
       "      <td>lyric_files/evermore-champagne problems.txt</td>\n",
       "      <td>evermore</td>\n",
       "      <td>champagne problems</td>\n",
       "      <td>1</td>\n",
       "    </tr>\n",
       "  </tbody>\n",
       "</table>\n",
       "</div>"
      ],
      "text/plain": [
       "                                       file_path album_name  \\\n",
       "5               lyric_files/Midnights-Maroon.txt  Midnights   \n",
       "125       lyric_files/Midnights-Question...?.txt  Midnights   \n",
       "22                lyric_files/folklore-betty.txt   folklore   \n",
       "136           lyric_files/folklore-mad woman.txt   folklore   \n",
       "75       lyric_files/evermore-cowboy like me.txt   evermore   \n",
       "134  lyric_files/evermore-champagne problems.txt   evermore   \n",
       "\n",
       "                   name  fuck_count  \n",
       "5                Maroon           2  \n",
       "125        Question...?           2  \n",
       "22                betty           2  \n",
       "136           mad woman           1  \n",
       "75       cowboy like me           1  \n",
       "134  champagne problems           1  "
      ]
     },
     "execution_count": 92,
     "metadata": {},
     "output_type": "execute_result"
    }
   ],
   "source": [
    "downloaded_songs.sort_values('fuck_count', ascending=False).query(\"fuck_count > 0\")"
   ]
  },
  {
   "cell_type": "code",
   "execution_count": null,
   "metadata": {},
   "outputs": [],
   "source": []
  }
 ],
 "metadata": {
  "kernelspec": {
   "display_name": "Python 3.10.6 ('taylor-lyrics')",
   "language": "python",
   "name": "python3"
  },
  "language_info": {
   "codemirror_mode": {
    "name": "ipython",
    "version": 3
   },
   "file_extension": ".py",
   "mimetype": "text/x-python",
   "name": "python",
   "nbconvert_exporter": "python",
   "pygments_lexer": "ipython3",
   "version": "3.10.6"
  },
  "orig_nbformat": 4,
  "vscode": {
   "interpreter": {
    "hash": "9b6d40124c9b78946a26911f2838d4f4ca503ba5530a2433fd73c253d3811291"
   }
  }
 },
 "nbformat": 4,
 "nbformat_minor": 2
}
